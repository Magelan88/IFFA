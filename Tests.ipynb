{
 "cells": [
  {
   "cell_type": "code",
   "execution_count": 1,
   "metadata": {},
   "outputs": [],
   "source": [
    "from DecisionEngine import MaltaDecisionEngine, IrelandDecisionEngine\n",
    "from MockData import fake_Tax"
   ]
  },
  {
   "cell_type": "code",
   "execution_count": 4,
   "metadata": {},
   "outputs": [
    {
     "data": {
      "text/plain": [
       "{'name': 'Katie Simon',\n",
       " 'VATID': '3244355',\n",
       " 'age': 52,\n",
       " 'address': '088 Brown Turnpike Apt. 518, West Lindsey, ID 81053',\n",
       " 'citizen': True,\n",
       " 'workInCountry': True,\n",
       " 'taxedInCountry': True,\n",
       " 'full_time': False,\n",
       " 'studentStatus': True,\n",
       " 'layedOffCorona': False,\n",
       " 'businessName': 'Strickland-White',\n",
       " 'business': 'Waiter/Waitress',\n",
       " 'founded': 2012,\n",
       " 'employees': 2,\n",
       " 'annualTurnover': 99160.18,\n",
       " 'covidReductionPct': 63.0,\n",
       " 'aidDemand': 5000,\n",
       " 'IBAN': 'GB02OSXD69438826691223',\n",
       " 'zipCode': '81053'}"
      ]
     },
     "execution_count": 4,
     "metadata": {},
     "output_type": "execute_result"
    }
   ],
   "source": [
    "r = fake_Tax(\"3244355\")\n",
    "r"
   ]
  },
  {
   "cell_type": "code",
   "execution_count": 6,
   "metadata": {},
   "outputs": [
    {
     "data": {
      "text/plain": [
       "(['Do you have a Maltesian Tax ID? -> True',\n",
       "  'Is your main activity impacted (reduction > 30%)? -> True',\n",
       "  'What list does your occupation fall under? -> Other'],\n",
       " 'We are sorry, you are not eligible for any aid')"
      ]
     },
     "execution_count": 6,
     "metadata": {},
     "output_type": "execute_result"
    }
   ],
   "source": [
    "MDE = MaltaDecisionEngine()\n",
    "MDE(r)"
   ]
  },
  {
   "cell_type": "code",
   "execution_count": null,
   "metadata": {},
   "outputs": [],
   "source": []
  }
 ],
 "metadata": {
  "kernelspec": {
   "display_name": "Python 3",
   "language": "python",
   "name": "python3"
  },
  "language_info": {
   "codemirror_mode": {
    "name": "ipython",
    "version": 3
   },
   "file_extension": ".py",
   "mimetype": "text/x-python",
   "name": "python",
   "nbconvert_exporter": "python",
   "pygments_lexer": "ipython3",
   "version": "3.7.6"
  }
 },
 "nbformat": 4,
 "nbformat_minor": 4
}
